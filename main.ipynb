{
 "cells": [
  {
   "cell_type": "code",
   "execution_count": 1,
   "metadata": {},
   "outputs": [],
   "source": [
    "import os, sys, glob, random, csv\n",
    "import numpy as np\n",
    "import matplotlib.pyplot as plt\n",
    "from tqdm import tqdm, trange\n",
    "import datetime\n",
    "from oandapyV20 import API\n",
    "import oandapyV20.endpoints.accounts as accounts\n",
    "import oandapyV20.endpoints.instruments as instruments\n",
    "import tensorflow as tf\n",
    "\n",
    "ACCOUNT_ID = \"101-009-16693469-001\"\n",
    "ACCESS_TOKEN = \"27c3a5e78406e721fc749f56a6155549-55e99c7ed9ab96eb9d256159b00aa10b\"\n",
    "\n",
    "api = API(access_token=ACCESS_TOKEN, environment=\"practice\")"
   ]
  },
  {
   "cell_type": "code",
   "execution_count": 101,
   "metadata": {},
   "outputs": [
    {
     "ename": "SyntaxError",
     "evalue": "invalid syntax (<ipython-input-101-4e3b38db2450>, line 2)",
     "output_type": "error",
     "traceback": [
      "\u001b[0;36m  File \u001b[0;32m\"<ipython-input-101-4e3b38db2450>\"\u001b[0;36m, line \u001b[0;32m2\u001b[0m\n\u001b[0;31m    def to_iso(time): -> iso\u001b[0m\n\u001b[0m                       ^\u001b[0m\n\u001b[0;31mSyntaxError\u001b[0m\u001b[0;31m:\u001b[0m invalid syntax\n"
     ]
    }
   ],
   "source": [
    "def to_iso(time):\n",
    "    '''\n",
    "        (input)\n",
    "            time：datetime(年,月,日,時,分)の形式\n",
    "        \n",
    "        (output)\n",
    "            OandaのAPIに入力するためのisoフォーマット\n",
    "    '''\n",
    "    return time.isoformat()+'.000000000Z'\n",
    "\n",
    "def yesterday_date():\n",
    "    '''\n",
    "        (input)\n",
    "            なし\n",
    "\n",
    "        (output)\n",
    "            前日0時を表すdatetime\n",
    "    '''\n",
    "    t = datetime.datetime.now()\n",
    "    t -= datetime.timedelta(\n",
    "        days = 1,\n",
    "        hours = t.hour,\n",
    "        minutes = t.minute,\n",
    "        seconds = t.second+t.microsecond/(10**6)\n",
    "    )\n",
    "    return t\n",
    "\n",
    "def getDataFromOanda(count, time, pair='USD_JPY', granularity='H1'):\n",
    "    '''\n",
    "        (input)\n",
    "            time：日時の終点を表すdatetime\n",
    "            count：データ数\n",
    "            pair：通貨ペア\n",
    "            granularity：価格データの取得間隔\n",
    "        \n",
    "        (output)\n",
    "            価格データのリスト\n",
    "    ''' \n",
    "    params = {\n",
    "        'to': to_iso(time),\n",
    "        'count': count,\n",
    "        'granularity': granularity,\n",
    "    }\n",
    "    r = instruments.InstrumentsCandles(instrument=pair, params=params)\n",
    "    candles = api.request(r)\n",
    "    res = []\n",
    "    for c in candles['candles']:\n",
    "        tmp = []\n",
    "        for k in ['o', 'h', 'l', 'c']:\n",
    "            tmp.append(float(c['mid'][k]))\n",
    "        res.append(tmp)    \n",
    "    return res"
   ]
  },
  {
   "cell_type": "code",
   "execution_count": 97,
   "metadata": {},
   "outputs": [],
   "source": [
    "def getDatasetFromOanda(count, timesteps, to=yesterday_date(), pair='USD_JPY', granularity='H1'):\n",
    "    '''\n",
    "        (input)\n",
    "            count：データ数\n",
    "            timesteps：予測に使う時系列数\n",
    "            to：日時の終点を表すdatetime\n",
    "            pair：通貨ペア\n",
    "            granularity：価格データの取得間隔\n",
    "\n",
    "        (output)\n",
    "            入力・ラベルのndarray\n",
    "    '''\n",
    "    lis = getDataFromOanda(count+timesteps, to, pair, granularity)\n",
    "    x = []\n",
    "    y = []\n",
    "    for i in range(count):\n",
    "        x.append(lis[i:i+timesteps])\n",
    "        y.append(lis[i+timesteps])\n",
    "    return np.array(x), np.array(y)"
   ]
  },
  {
   "cell_type": "code",
   "execution_count": 100,
   "metadata": {
    "scrolled": true
   },
   "outputs": [
    {
     "data": {
      "text/plain": [
       "array([[[104.582, 104.594, 104.508, 104.518],\n",
       "        [104.517, 104.531, 104.47 , 104.512],\n",
       "        [104.514, 104.528, 104.469, 104.494]],\n",
       "\n",
       "       [[104.517, 104.531, 104.47 , 104.512],\n",
       "        [104.514, 104.528, 104.469, 104.494],\n",
       "        [104.495, 104.584, 104.493, 104.553]],\n",
       "\n",
       "       [[104.514, 104.528, 104.469, 104.494],\n",
       "        [104.495, 104.584, 104.493, 104.553],\n",
       "        [104.551, 104.554, 104.488, 104.506]],\n",
       "\n",
       "       [[104.495, 104.584, 104.493, 104.553],\n",
       "        [104.551, 104.554, 104.488, 104.506],\n",
       "        [104.507, 104.516, 104.399, 104.413]],\n",
       "\n",
       "       [[104.551, 104.554, 104.488, 104.506],\n",
       "        [104.507, 104.516, 104.399, 104.413],\n",
       "        [104.416, 104.442, 104.414, 104.432]]])"
      ]
     },
     "execution_count": 100,
     "metadata": {},
     "output_type": "execute_result"
    }
   ],
   "source": [
    "x,y=getDatasetFromOanda(5, 3)\n",
    "x"
   ]
  },
  {
   "cell_type": "code",
   "execution_count": 81,
   "metadata": {
    "scrolled": false
   },
   "outputs": [
    {
     "name": "stdout",
     "output_type": "stream",
     "text": [
      "2020-12-04 17:17:14.475538\n",
      "2020-12-03 00:00:00\n"
     ]
    }
   ],
   "source": [
    "print(datetime.datetime.now())\n",
    "print(yesterday_date())"
   ]
  },
  {
   "cell_type": "code",
   "execution_count": 60,
   "metadata": {},
   "outputs": [
    {
     "name": "stdout",
     "output_type": "stream",
     "text": [
      "2020-12-04T09:00:00.000000000Z\n"
     ]
    },
    {
     "ename": "V20Error",
     "evalue": "{\"errorMessage\":\"Invalid value specified for 'to'. Time is in the future\"}",
     "output_type": "error",
     "traceback": [
      "\u001b[0;31m---------------------------------------------------------------------------\u001b[0m",
      "\u001b[0;31mV20Error\u001b[0m                                  Traceback (most recent call last)",
      "\u001b[0;32m<ipython-input-60-f08285ca6251>\u001b[0m in \u001b[0;36m<module>\u001b[0;34m\u001b[0m\n\u001b[1;32m      8\u001b[0m }\n\u001b[1;32m      9\u001b[0m \u001b[0mr\u001b[0m \u001b[0;34m=\u001b[0m \u001b[0minstruments\u001b[0m\u001b[0;34m.\u001b[0m\u001b[0mInstrumentsCandles\u001b[0m\u001b[0;34m(\u001b[0m\u001b[0minstrument\u001b[0m\u001b[0;34m=\u001b[0m\u001b[0;34m\"USD_JPY\"\u001b[0m\u001b[0;34m,\u001b[0m \u001b[0mparams\u001b[0m\u001b[0;34m=\u001b[0m\u001b[0mparams\u001b[0m\u001b[0;34m)\u001b[0m\u001b[0;34m\u001b[0m\u001b[0m\n\u001b[0;32m---> 10\u001b[0;31m \u001b[0mc\u001b[0m \u001b[0;34m=\u001b[0m \u001b[0mapi\u001b[0m\u001b[0;34m.\u001b[0m\u001b[0mrequest\u001b[0m\u001b[0;34m(\u001b[0m\u001b[0mr\u001b[0m\u001b[0;34m)\u001b[0m\u001b[0;34m\u001b[0m\u001b[0m\n\u001b[0m\u001b[1;32m     11\u001b[0m \u001b[0mc\u001b[0m\u001b[0;34m\u001b[0m\u001b[0m\n",
      "\u001b[0;32m~/.local/share/virtualenvs/fx--SMFzywS/lib/python3.6/site-packages/oandapyV20/oandapyV20.py\u001b[0m in \u001b[0;36mrequest\u001b[0;34m(self, endpoint)\u001b[0m\n\u001b[1;32m    304\u001b[0m \u001b[0;34m\u001b[0m\u001b[0m\n\u001b[1;32m    305\u001b[0m             response = self.__request(method, url,\n\u001b[0;32m--> 306\u001b[0;31m                                       request_args, headers=headers)\n\u001b[0m\u001b[1;32m    307\u001b[0m             \u001b[0mcontent\u001b[0m \u001b[0;34m=\u001b[0m \u001b[0mresponse\u001b[0m\u001b[0;34m.\u001b[0m\u001b[0mcontent\u001b[0m\u001b[0;34m.\u001b[0m\u001b[0mdecode\u001b[0m\u001b[0;34m(\u001b[0m\u001b[0;34m'utf-8'\u001b[0m\u001b[0;34m)\u001b[0m\u001b[0;34m\u001b[0m\u001b[0m\n\u001b[1;32m    308\u001b[0m             \u001b[0mcontent\u001b[0m \u001b[0;34m=\u001b[0m \u001b[0mjson\u001b[0m\u001b[0;34m.\u001b[0m\u001b[0mloads\u001b[0m\u001b[0;34m(\u001b[0m\u001b[0mcontent\u001b[0m\u001b[0;34m)\u001b[0m\u001b[0;34m\u001b[0m\u001b[0m\n",
      "\u001b[0;32m~/.local/share/virtualenvs/fx--SMFzywS/lib/python3.6/site-packages/oandapyV20/oandapyV20.py\u001b[0m in \u001b[0;36m__request\u001b[0;34m(self, method, url, request_args, headers, stream)\u001b[0m\n\u001b[1;32m    241\u001b[0m                          response.content.decode('utf-8'))\n\u001b[1;32m    242\u001b[0m             raise V20Error(response.status_code,\n\u001b[0;32m--> 243\u001b[0;31m                            response.content.decode('utf-8'))\n\u001b[0m\u001b[1;32m    244\u001b[0m         \u001b[0;32mreturn\u001b[0m \u001b[0mresponse\u001b[0m\u001b[0;34m\u001b[0m\u001b[0m\n\u001b[1;32m    245\u001b[0m \u001b[0;34m\u001b[0m\u001b[0m\n",
      "\u001b[0;31mV20Error\u001b[0m: {\"errorMessage\":\"Invalid value specified for 'to'. Time is in the future\"}"
     ]
    }
   ],
   "source": [
    "aa=datetime(2020,12,4,9).isoformat()+'.000000000Z'\n",
    "#aa=datetime.now().isoformat()+'.000000000Z'\n",
    "print(aa)\n",
    "params = {\n",
    "    \"to\": aa,\n",
    "    \"count\": 1000,\n",
    "    \"granularity\": \"H1\",\n",
    "}\n",
    "r = instruments.InstrumentsCandles(instrument=\"USD_JPY\", params=params)\n",
    "c = api.request(r)\n",
    "c"
   ]
  },
  {
   "cell_type": "code",
   "execution_count": 9,
   "metadata": {},
   "outputs": [
    {
     "data": {
      "text/plain": [
       "'2.3.1'"
      ]
     },
     "execution_count": 9,
     "metadata": {},
     "output_type": "execute_result"
    }
   ],
   "source": [
    "# 学習モデル\n",
    "tf.__version__"
   ]
  },
  {
   "cell_type": "code",
   "execution_count": 115,
   "metadata": {},
   "outputs": [],
   "source": [
    "# 学習モデル\n",
    "class myModel(tf.keras.Model):\n",
    "    \n",
    "    def __init__(self):\n",
    "        \n",
    "        super(myModel, self).__init__()\n",
    "        \n",
    "        self.flatten0 = tf.keras.layers.Flatten()\n",
    "        self.flatten1 = tf.keras.layers.Flatten()\n",
    "        self.flatten2 = tf.keras.layers.Flatten()\n",
    "        self.flatten3 = tf.keras.layers.Flatten()\n",
    "        \n",
    "        self.ave1 = tf.keras.layers.AveragePooling2D((1,4), strides=1)\n",
    "        self.ave2 = tf.keras.layers.AveragePooling2D((5,1), strides=1)\n",
    "        self.ave3 = tf.keras.layers.AveragePooling2D((25,1), strides=1)\n",
    "        \n",
    "        self.dense0 = tf.keras.layers.Dense(32)\n",
    "        self.dense1 = tf.keras.layers.Dense(32)\n",
    "        self.dense2 = tf.keras.layers.Dense(32)\n",
    "        self.dense3 = tf.keras.layers.Dense(32)\n",
    "        self.dense4 = tf.keras.layers.Dense(128)    \n",
    "        self.dense5 = tf.keras.layers.Dense(100) \n",
    "                \n",
    "        self.concate_x = tf.keras.layers.Concatenate()\n",
    "        self.concate_y = tf.keras.layers.Concatenate(axis=1)\n",
    "        \n",
    "        self.dropout = tf.keras.layers.Dropout(0.2)\n",
    "        self.bn = tf.keras.layers.BatchNormalization()\n",
    "        self.reshape = tf.keras.layers.Reshape((25,4,1))\n",
    "        self.add = tf.keras.layers.Add()\n",
    "        \n",
    "    def call(self, x):\n",
    "              \n",
    "        x0 = x\n",
    "        x0 = self.flatten0(x0)\n",
    "        x0 = self.dense0(x0)\n",
    "        \n",
    "        x1 = x\n",
    "        x1 = self.ave1(x1)\n",
    "        x1 = self.flatten1(x1)\n",
    "        x1 = self.dense1(x1)\n",
    "        \n",
    "        x2 = x\n",
    "        x2 = self.ave2(x2)\n",
    "        x2 = self.flatten2(x2)\n",
    "        x2 = self.dense2(x2)\n",
    "        \n",
    "        x3 = x\n",
    "        x3 = self.ave3(x3)\n",
    "        x3 = self.flatten3(x3)\n",
    "        x3 = self.dense3(x3)\n",
    "        \n",
    "        d = self.concate_x([x0,x1,x2,x3])\n",
    "        d = self.dropout(d)\n",
    "        d = self.bn(d)\n",
    "        d = self.dense4(d)\n",
    "        d = self.dense5(d)\n",
    "        d = self.reshape(d)\n",
    "        \n",
    "        y = tf.expand_dims(x[:,-1], axis=1)\n",
    "        y = self.concate_y([y]*25)\n",
    "        \n",
    "        y = self.add([y,d])\n",
    "        \n",
    "        return y"
   ]
  },
  {
   "cell_type": "code",
   "execution_count": 116,
   "metadata": {},
   "outputs": [
    {
     "ename": "TypeError",
     "evalue": "super does not take keyword arguments",
     "output_type": "error",
     "traceback": [
      "\u001b[0;31m---------------------------------------------------------------------------\u001b[0m",
      "\u001b[0;31mTypeError\u001b[0m                                 Traceback (most recent call last)",
      "\u001b[0;32m<ipython-input-116-c00c7b72a07e>\u001b[0m in \u001b[0;36m<module>\u001b[0;34m\u001b[0m\n\u001b[1;32m      1\u001b[0m model = tf.keras.models.Sequential([\n\u001b[0;32m----> 2\u001b[0;31m     \u001b[0mIdentityLayer\u001b[0m\u001b[0;34m(\u001b[0m\u001b[0minput_shape\u001b[0m\u001b[0;34m=\u001b[0m\u001b[0;34m(\u001b[0m\u001b[0;36m50\u001b[0m\u001b[0;34m,\u001b[0m\u001b[0;36m4\u001b[0m\u001b[0;34m,\u001b[0m\u001b[0;36m1\u001b[0m\u001b[0;34m)\u001b[0m\u001b[0;34m)\u001b[0m\u001b[0;34m,\u001b[0m\u001b[0;34m\u001b[0m\u001b[0m\n\u001b[0m\u001b[1;32m      3\u001b[0m     \u001b[0mmyModel\u001b[0m\u001b[0;34m(\u001b[0m\u001b[0;34m)\u001b[0m\u001b[0;34m\u001b[0m\u001b[0m\n\u001b[1;32m      4\u001b[0m ])\n\u001b[1;32m      5\u001b[0m \u001b[0;34m\u001b[0m\u001b[0m\n",
      "\u001b[0;32m<ipython-input-115-aa58dbece203>\u001b[0m in \u001b[0;36m__init__\u001b[0;34m(self, **args)\u001b[0m\n\u001b[1;32m      1\u001b[0m \u001b[0;32mclass\u001b[0m \u001b[0mIdentityLayer\u001b[0m\u001b[0;34m(\u001b[0m\u001b[0mtf\u001b[0m\u001b[0;34m.\u001b[0m\u001b[0mkeras\u001b[0m\u001b[0;34m.\u001b[0m\u001b[0mlayers\u001b[0m\u001b[0;34m.\u001b[0m\u001b[0mLayer\u001b[0m\u001b[0;34m)\u001b[0m\u001b[0;34m:\u001b[0m\u001b[0;34m\u001b[0m\u001b[0m\n\u001b[1;32m      2\u001b[0m     \u001b[0;32mdef\u001b[0m \u001b[0m__init__\u001b[0m\u001b[0;34m(\u001b[0m\u001b[0mself\u001b[0m\u001b[0;34m,\u001b[0m \u001b[0;34m**\u001b[0m\u001b[0margs\u001b[0m\u001b[0;34m)\u001b[0m\u001b[0;34m:\u001b[0m\u001b[0;34m\u001b[0m\u001b[0m\n\u001b[0;32m----> 3\u001b[0;31m         \u001b[0msuper\u001b[0m\u001b[0;34m(\u001b[0m\u001b[0mIdentityLayer\u001b[0m\u001b[0;34m,\u001b[0m \u001b[0mself\u001b[0m\u001b[0;34m,\u001b[0m \u001b[0;34m**\u001b[0m\u001b[0margs\u001b[0m\u001b[0;34m)\u001b[0m\u001b[0;34m.\u001b[0m\u001b[0m__init__\u001b[0m\u001b[0;34m(\u001b[0m\u001b[0;34m)\u001b[0m\u001b[0;34m\u001b[0m\u001b[0m\n\u001b[0m\u001b[1;32m      4\u001b[0m     \u001b[0;32mdef\u001b[0m \u001b[0mcall\u001b[0m\u001b[0;34m(\u001b[0m\u001b[0mself\u001b[0m\u001b[0;34m,\u001b[0m \u001b[0mx\u001b[0m\u001b[0;34m)\u001b[0m\u001b[0;34m:\u001b[0m\u001b[0;34m\u001b[0m\u001b[0m\n\u001b[1;32m      5\u001b[0m         \u001b[0;32mreturn\u001b[0m \u001b[0mx\u001b[0m\u001b[0;34m\u001b[0m\u001b[0m\n",
      "\u001b[0;31mTypeError\u001b[0m: super does not take keyword arguments"
     ]
    }
   ],
   "source": [
    "model = tf.keras.models.Sequential([\n",
    "    IdentityLayer(input_shape=(50,4,1)),\n",
    "    myModel()\n",
    "])\n",
    "\n",
    "model.compile(\n",
    "    optimizer=tf.keras.optimizers.Adam(learning_rate=0.001),\n",
    "    loss=tf.keras.losses.CategoricalCrossentropy(),\n",
    ")\n",
    "                             \n",
    "model.summary()"
   ]
  },
  {
   "cell_type": "code",
   "execution_count": 93,
   "metadata": {},
   "outputs": [
    {
     "data": {
      "text/plain": [
       "<tf.Tensor: shape=(1, 4, 1), dtype=float32, numpy=\n",
       "array([[[ 0.00483881],\n",
       "        [-0.722205  ],\n",
       "        [-1.3933011 ],\n",
       "        [ 0.8899519 ]]], dtype=float32)>"
      ]
     },
     "execution_count": 93,
     "metadata": {},
     "output_type": "execute_result"
    }
   ],
   "source": [
    "x = tf.random.normal((1,10,4,1))\n",
    "#x = tf.keras.layers.Concatenate(axis=1)([x[:,-1]]*10)\n",
    "y = np.expand_dims(x[:,-1],axis=1)"
   ]
  },
  {
   "cell_type": "code",
   "execution_count": 33,
   "metadata": {},
   "outputs": [
    {
     "name": "stdout",
     "output_type": "stream",
     "text": [
      "tf.Tensor(\n",
      "[[[-0.09379268 -0.0791108  -0.28078464 -0.08722877]\n",
      "  [ 0.10220478  0.39024413  0.26353455  0.30187112]\n",
      "  [ 0.25190574  0.60776144  0.6266432   0.52310824]\n",
      "  [-0.27016002  0.45295584  0.62319076  0.49162406]]], shape=(1, 4, 4), dtype=float32) tf.Tensor(\n",
      "[[[ 0.21124075  0.02367895 -0.11560702 -1.5403218 ]\n",
      "  [ 1.1976389   0.97041285  0.9824952   0.00423068]\n",
      "  [ 2.1718748   0.21003845  0.97323513  2.0151923 ]\n",
      "  [ 3.521932   -1.2114059  -1.1625595  -1.3003882 ]]], shape=(1, 4, 4), dtype=float32)\n"
     ]
    }
   ],
   "source": [
    "inputs = tf.random.normal([1, 4, 4])\n",
    "gru = tf.keras.layers.GRU(4,return_sequences=True)\n",
    "output = gru(inputs)\n",
    "print(output, inputs)"
   ]
  }
 ],
 "metadata": {
  "jupytext": {
   "encoding": "# -*- coding: utf-8 -*-",
   "text_representation": {
    "extension": ".py",
    "format_name": "light",
    "format_version": "1.5",
    "jupytext_version": "1.6.0"
   }
  },
  "kernelspec": {
   "display_name": "Python 3",
   "language": "python",
   "name": "python3"
  },
  "language_info": {
   "codemirror_mode": {
    "name": "ipython",
    "version": 3
   },
   "file_extension": ".py",
   "mimetype": "text/x-python",
   "name": "python",
   "nbconvert_exporter": "python",
   "pygments_lexer": "ipython3",
   "version": "3.6.1"
  }
 },
 "nbformat": 4,
 "nbformat_minor": 4
}
